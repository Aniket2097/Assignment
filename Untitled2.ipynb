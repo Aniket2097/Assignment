{
 "cells": [
  {
   "cell_type": "code",
   "execution_count": 1,
   "id": "219ba854-6c59-43f8-92d3-40c43670f40a",
   "metadata": {},
   "outputs": [],
   "source": [
    "l= [5,68]"
   ]
  },
  {
   "cell_type": "code",
   "execution_count": 2,
   "id": "871be064-f2a9-4a81-aa26-8378b36e5532",
   "metadata": {},
   "outputs": [
    {
     "data": {
      "text/plain": [
       "list"
      ]
     },
     "execution_count": 2,
     "metadata": {},
     "output_type": "execute_result"
    }
   ],
   "source": [
    "type(l)"
   ]
  },
  {
   "cell_type": "code",
   "execution_count": 5,
   "id": "97311eba-bf1b-4a10-b18a-5fdcf5ad101e",
   "metadata": {},
   "outputs": [
    {
     "name": "stdin",
     "output_type": "stream",
     "text": [
      "enter your marks  100\n"
     ]
    },
    {
     "name": "stdout",
     "output_type": "stream",
     "text": [
      "you will be a part of A0 batch\n"
     ]
    }
   ],
   "source": [
    "marks = int (input (\"enter your marks \"))\n",
    "if marks >= 80 :\n",
    "    print (\"you will be a part of A0 batch\")\n",
    "elif marks >=60 and marks < 80 :\n",
    "    print (\"you will be a part of A1 batch\")\n",
    "elif marks >= 40 and marks < 60 :\n",
    "    print (\"you will be part of A2 batch\")\n",
    "else : \n",
    "    print (\"you will be part of A3 batch\")\n",
    "    "
   ]
  },
  {
   "cell_type": "code",
   "execution_count": 19,
   "id": "5c49dde6-730b-43fb-8ba9-275713fbc4c1",
   "metadata": {},
   "outputs": [
    {
     "name": "stdin",
     "output_type": "stream",
     "text": [
      "please enter the amount 2000\n"
     ]
    },
    {
     "name": "stdout",
     "output_type": "stream",
     "text": [
      "i will not purchase\n"
     ]
    }
   ],
   "source": [
    "price = float(input( \"please enter the amount\"))\n",
    "if price >1000 :\n",
    "    print (\"i will not purchase\")\n",
    "elif price < 1000 :\n",
    "    print (\"i will purchase\")\n",
    "if price > 5000 :\n",
    "    print (\"this is too much\")"
   ]
  },
  {
   "cell_type": "code",
   "execution_count": 22,
   "id": "0661edc8-1902-4a62-ac54-30c993983114",
   "metadata": {},
   "outputs": [],
   "source": [
    "## for loop"
   ]
  },
  {
   "cell_type": "code",
   "execution_count": 76,
   "id": "d84f1c1c-738a-4321-9013-0500a996c293",
   "metadata": {},
   "outputs": [],
   "source": [
    "l = [1,2,2,3,4,5,6]"
   ]
  },
  {
   "cell_type": "code",
   "execution_count": 77,
   "id": "5b8b73ba-87fc-405a-b47b-03c602249acd",
   "metadata": {},
   "outputs": [
    {
     "name": "stdout",
     "output_type": "stream",
     "text": [
      "2\n",
      "3\n",
      "3\n",
      "4\n",
      "5\n",
      "6\n",
      "7\n"
     ]
    }
   ],
   "source": [
    "l1= [] \n",
    "for i in l :\n",
    "    print (i +1)\n",
    "    l1.append (i+1)"
   ]
  },
  {
   "cell_type": "code",
   "execution_count": 78,
   "id": "2d7168e1-20aa-4486-981d-cf51eb0d2a83",
   "metadata": {},
   "outputs": [
    {
     "data": {
      "text/plain": [
       "[2, 3, 3, 4, 5, 6, 7]"
      ]
     },
     "execution_count": 78,
     "metadata": {},
     "output_type": "execute_result"
    }
   ],
   "source": [
    "l1"
   ]
  },
  {
   "cell_type": "code",
   "execution_count": 83,
   "id": "43f144ae-a801-47ce-a808-d37a42956694",
   "metadata": {},
   "outputs": [],
   "source": [
    "l = [\"master\",\"skill\",\"pw\",\"data\"]"
   ]
  },
  {
   "cell_type": "code",
   "execution_count": 84,
   "id": "121da67f-3f47-4e47-9f90-b0c2ed504eb8",
   "metadata": {},
   "outputs": [
    {
     "data": {
      "text/plain": [
       "['master', 'skill', 'pw', 'data']"
      ]
     },
     "execution_count": 84,
     "metadata": {},
     "output_type": "execute_result"
    }
   ],
   "source": [
    "l"
   ]
  },
  {
   "cell_type": "code",
   "execution_count": 85,
   "id": "c4dc2e15-10df-43bb-9eba-debcbdfeb16c",
   "metadata": {},
   "outputs": [
    {
     "data": {
      "text/plain": [
       "['master', 'skill', 'pw', 'data']"
      ]
     },
     "execution_count": 85,
     "metadata": {},
     "output_type": "execute_result"
    }
   ],
   "source": [
    "l"
   ]
  },
  {
   "cell_type": "code",
   "execution_count": 86,
   "id": "60f9df43-a8d9-4890-ad8c-79b46168335e",
   "metadata": {},
   "outputs": [
    {
     "name": "stdout",
     "output_type": "stream",
     "text": [
      "master\n",
      "skill\n",
      "pw\n",
      "data\n"
     ]
    }
   ],
   "source": [
    "l1 = []\n",
    "for i in l :\n",
    "    print (i)\n",
    "    l1.append (i.upper())"
   ]
  },
  {
   "cell_type": "code",
   "execution_count": 87,
   "id": "198979b3-69e0-41b9-aae0-6046c7395cf5",
   "metadata": {},
   "outputs": [
    {
     "data": {
      "text/plain": [
       "['MASTER', 'SKILL', 'PW', 'DATA']"
      ]
     },
     "execution_count": 87,
     "metadata": {},
     "output_type": "execute_result"
    }
   ],
   "source": [
    "l1"
   ]
  },
  {
   "cell_type": "code",
   "execution_count": 67,
   "id": "d8104e47-e3a9-4e7a-a10d-c5ce1fad02c4",
   "metadata": {},
   "outputs": [],
   "source": [
    "l = [1,2,3,4,5,6,6,8,8,9]"
   ]
  },
  {
   "cell_type": "code",
   "execution_count": 68,
   "id": "73341791-b02f-4bb7-aae9-c5f26a68f5cc",
   "metadata": {},
   "outputs": [
    {
     "data": {
      "text/plain": [
       "[1, 2, 3, 4, 5, 6, 6, 8, 8, 9]"
      ]
     },
     "execution_count": 68,
     "metadata": {},
     "output_type": "execute_result"
    }
   ],
   "source": [
    "l"
   ]
  },
  {
   "cell_type": "code",
   "execution_count": 79,
   "id": "0004d6e1-7b4b-4448-8cf3-874696be25ea",
   "metadata": {},
   "outputs": [
    {
     "name": "stdout",
     "output_type": "stream",
     "text": [
      "2\n",
      "3\n",
      "3\n",
      "4\n",
      "5\n",
      "6\n",
      "7\n"
     ]
    }
   ],
   "source": [
    "l1= []\n",
    "for i in l :\n",
    "    print (i + 1)\n",
    "    l1.append(i + 1)"
   ]
  },
  {
   "cell_type": "code",
   "execution_count": 80,
   "id": "ae4386ff-a7b2-47e9-8ad2-3f7b1eef324c",
   "metadata": {},
   "outputs": [
    {
     "data": {
      "text/plain": [
       "[2, 3, 3, 4, 5, 6, 7]"
      ]
     },
     "execution_count": 80,
     "metadata": {},
     "output_type": "execute_result"
    }
   ],
   "source": [
    "l1"
   ]
  },
  {
   "cell_type": "code",
   "execution_count": 90,
   "id": "e3e89084-255d-4e91-bf33-2cd2d5abe405",
   "metadata": {},
   "outputs": [],
   "source": [
    "l = [1,2,3, \"ani\", \"svm\",5,6,6.5,7,8,\"rks\"]"
   ]
  },
  {
   "cell_type": "code",
   "execution_count": 91,
   "id": "064769ca-96a4-48df-b88b-de10ad5a3fc3",
   "metadata": {},
   "outputs": [
    {
     "data": {
      "text/plain": [
       "[1, 2, 3, 'ani', 'svm', 5, 6, 6.5, 7, 8, 'rks']"
      ]
     },
     "execution_count": 91,
     "metadata": {},
     "output_type": "execute_result"
    }
   ],
   "source": [
    "l"
   ]
  },
  {
   "cell_type": "code",
   "execution_count": 96,
   "id": "67b32376-30d3-4f22-baf4-5509e45fbd45",
   "metadata": {},
   "outputs": [],
   "source": [
    "l5_num = []\n",
    "l2_str = []\n",
    "for i in l :\n",
    "    if type(i) == int or type(i) == float :\n",
    "        l5_num.append(i)\n",
    "    else :\n",
    "         l2_str.append(i)"
   ]
  },
  {
   "cell_type": "code",
   "execution_count": 99,
   "id": "ca0c66e0-de36-4f49-a1f7-f1ad6cf0f44b",
   "metadata": {},
   "outputs": [
    {
     "data": {
      "text/plain": [
       "[1, 2, 3, 5, 6, 6.5, 7, 8]"
      ]
     },
     "execution_count": 99,
     "metadata": {},
     "output_type": "execute_result"
    }
   ],
   "source": [
    "l5_num"
   ]
  },
  {
   "cell_type": "code",
   "execution_count": 100,
   "id": "c55dbdf6-11d9-4a76-83fd-a2eac0cf6fb4",
   "metadata": {},
   "outputs": [
    {
     "data": {
      "text/plain": [
       "['ani', 'svm', 'rks']"
      ]
     },
     "execution_count": 100,
     "metadata": {},
     "output_type": "execute_result"
    }
   ],
   "source": [
    "l2_str"
   ]
  },
  {
   "cell_type": "code",
   "execution_count": null,
   "id": "9464e4b0-aca2-4930-bbfc-c89098a868f8",
   "metadata": {},
   "outputs": [],
   "source": []
  }
 ],
 "metadata": {
  "kernelspec": {
   "display_name": "Python 3 (ipykernel)",
   "language": "python",
   "name": "python3"
  },
  "language_info": {
   "codemirror_mode": {
    "name": "ipython",
    "version": 3
   },
   "file_extension": ".py",
   "mimetype": "text/x-python",
   "name": "python",
   "nbconvert_exporter": "python",
   "pygments_lexer": "ipython3",
   "version": "3.10.8"
  }
 },
 "nbformat": 4,
 "nbformat_minor": 5
}
